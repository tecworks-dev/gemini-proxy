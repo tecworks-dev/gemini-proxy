{
  "nbformat": 4,
  "nbformat_minor": 0,
  "metadata": {
    "colab": {
      "provenance": [],
      "gpuType": "T4"
    },
    "kernelspec": {
      "name": "python3",
      "display_name": "Python 3"
    },
    "language_info": {
      "name": "python"
    },
    "accelerator": "GPU"
  },
  "cells": [
    {
      "cell_type": "code",
      "execution_count": 1,
      "metadata": {
        "colab": {
          "base_uri": "https://localhost:8080/"
        },
        "id": "zDo3NCbzxvrC",
        "outputId": "1b969474-05c6-4ca2-8cdd-9fbcff69a656"
      },
      "outputs": [
        {
          "output_type": "stream",
          "name": "stdout",
          "text": [
          ]
        }
      ],
      "source": [
        "!apt update\n",
        "!apt install git -y\n",
        "!git clone https://github.com/vital121/gemini-proxy.git\n",
        "!pip install ngrok\n",
        "!curl -s https://ngrok-agent.s3.amazonaws.com/ngrok.asc \\\n",
        "\t| tee /etc/apt/trusted.gpg.d/ngrok.asc >/dev/null \\\n",
        "\t&& echo \"deb https://ngrok-agent.s3.amazonaws.com buster main\" \\\n",
        "\t| tee /etc/apt/sources.list.d/ngrok.list \\\n",
        "\t&& apt update \\\n",
        "\t&& apt install ngrok\n",
        "!wget https://bin.equinox.io/c/4VmDzA7iaHb/ngrok-stable-linux-amd64.zip\n",
        "!unzip -fo ngrok-stable-linux-amd64.zip\n",
        "!pip install flask\n"
      ]
    },
    {
      "cell_type": "code",
      "source": [
        "# Install required system utilities\n",
        "!apt update && !apt install git -y\n",
        "!wget https://bin.equinox.io/c/4VmDzA7iaHb/ngrok-stable-linux-amd64.zip\n",
        "!unzip -fo ngrok-stable-linux-amd64.zip\n",
        "\n",
        "# Install pyngrok\n",
        "!pip install pyngrok\n",
        "\n"
      ],
      "metadata": {
        "colab": {
          "base_uri": "https://localhost:8080/"
        },
        "id": "37HjGYtJ5-oq",
        "outputId": "2d3fb938-eb76-4fb9-d994-a1a70121ddb9"
      },
      "execution_count": 2,
      "outputs": [
        {
          "output_type": "stream",
          "name": "stdout",
          "text": [
          ]
        }
      ]
    },
    {
      "cell_type": "markdown",
      "source": [
        "**restart session**"
      ],
      "metadata": {
        "id": "SQ89tR6d4WhC"
      }
    },
    {
      "cell_type": "code",
      "source": [
        "ngrok_token = 'YOUR_NGROK_TOKEN'"
      ],
      "metadata": {
        "id": "ieQBjOAK8MeJ"
      },
      "execution_count": 3,
      "outputs": []
    },
    {
      "cell_type": "code",
      "source": [
        "\n",
        "import os\n",
        "import threading\n",
        "from pyngrok import ngrok\n",
        "\n",
        "# Function to establish ngrok tunnel in a separate thread\n",
        "def start_ngrok_tunnel():\n",
        "    # Set your ngrok authtoken here\n",
        "    ngrok.set_auth_token(ngrok_token)\n",
        "    ngrok_tunnel = ngrok.connect(addr=\"5000\", proto=\"http\")\n",
        "    print(\"Ngrok Tunnel URL:\", ngrok_tunnel.public_url)\n",
        "    return ngrok_tunnel\n",
        "\n",
        "# Start ngrok tunnel in a separate thread\n",
        "ngrok_thread = threading.Thread(target=start_ngrok_tunnel)\n",
        "ngrok_thread.start()\n",
        "\n",
        "# Wait for the ngrok tunnel to be established\n",
        "ngrok_thread.join()\n",
        "\n",
        "# Assuming you have a Flask app or similar in 'proxy_server.py'\n",
        "\n",
        "os.chdir(\"/content/gemini-proxy\")\n",
        "\n",
        "# Execute the command to start the run.py script with CUDA execution providers\n",
        "\n",
        "# Ensure this script is in your current working directory\n",
        "!python proxy.py\n",
        "\n",
        "# Code to disconnect the ngrok tunnel after use\n",
        "ngrok.disconnect()"
      ],
      "metadata": {
        "colab": {
          "base_uri": "https://localhost:8080/"
        },
        "id": "Q0SSk2bk6BFG",
        "outputId": "4de7128a-3eb1-4ada-8bf6-587feb1f3290"
      },
      "execution_count": null,
      "outputs": [
        {
          "output_type": "stream",
          "name": "stdout",
          "text": [
          ]
        }
      ]
    }
  ]
}
