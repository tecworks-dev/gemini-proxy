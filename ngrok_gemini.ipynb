{
  "cells": [
    {
      "cell_type": "code",
      "source": [
        "# Install required system utilities\n",
        "!apt update && !apt install git -y\n",
        "!git clone https://github.com/vital121/gemini-proxy.git\n",
        "!wget https://bin.equinox.io/c/4VmDzA7iaHb/ngrok-stable-linux-amd64.zip\n",
        "!unzip -fo ngrok-stable-linux-amd64.zip\n",
        "\n",
        "# Install pyngrok\n",
        "!pip install pyngrok\n",
        "\n"
      ],
      "metadata": {
        "id": "AETT8_Jxtt97"
      },
      "execution_count": null,
      "outputs": []
    },
    {
      "cell_type": "markdown",
      "metadata": {
        "id": "SQ89tR6d4WhC"
      },
      "source": [
        "**restart session**"
      ]
    },
    {
      "cell_type": "code",
      "execution_count": null,
      "metadata": {
        "id": "ieQBjOAK8MeJ"
      },
      "outputs": [],
      "source": [
        "ngrok_token = 'YOUR_TOKEN'"
      ]
    },
    {
      "cell_type": "code",
      "source": [
        "import os\n",
        "import threading\n",
        "import subprocess\n",
        "from pyngrok import ngrok\n",
        "\n",
        "# Function to establish ngrok tunnel in a separate thread\n",
        "def start_ngrok_tunnel(ngrok_token):\n",
        "    \"\"\"\n",
        "    Starts an ngrok tunnel on the specified port.\n",
        "\n",
        "    Args:\n",
        "    ngrok_token (str): The ngrok authentication token.\n",
        "\n",
        "    Returns:\n",
        "    str: The public URL of the ngrok tunnel.\n",
        "    \"\"\"\n",
        "    ngrok.set_auth_token(ngrok_token)\n",
        "    ngrok_tunnel = ngrok.connect(addr=\"5000\", proto=\"http\")\n",
        "    print(\"Ngrok Tunnel URL:\", ngrok_tunnel.public_url)\n",
        "    return ngrok_tunnel.public_url\n",
        "\n",
        "def main():\n",
        "\n",
        "    # Start ngrok tunnel in a separate thread\n",
        "    ngrok_thread = threading.Thread(target=start_ngrok_tunnel, args=(ngrok_token,))\n",
        "    ngrok_thread.start()\n",
        "\n",
        "    # Wait for the ngrok tunnel to be established\n",
        "    ngrok_thread.join()\n",
        "\n",
        "    # Change to the directory containing your Flask app\n",
        "    os.chdir(\"/content/gemini-proxy\")\n",
        "\n",
        "    # Execute the command to start your Python script\n",
        "    # Note: subprocess.call is a blocking call that waits for the command to complete.\n",
        "    subprocess.call([\"python\", \"proxy.py\"])\n",
        "\n",
        "    # Code to disconnect all ngrok tunnels after use\n",
        "    ngrok.disconnect()\n",
        "\n",
        "if __name__ == '__main__':\n",
        "    main()\n"
      ],
      "metadata": {
        "id": "0Ae4FtZwtyVp"
      },
      "execution_count": null,
      "outputs": []
    }
  ],
  "metadata": {
    "accelerator": "GPU",
    "colab": {
      "gpuType": "T4",
      "provenance": []
    },
    "kernelspec": {
      "display_name": "Python 3",
      "name": "python3"
    },
    "language_info": {
      "name": "python"
    }
  },
  "nbformat": 4,
  "nbformat_minor": 0
}
